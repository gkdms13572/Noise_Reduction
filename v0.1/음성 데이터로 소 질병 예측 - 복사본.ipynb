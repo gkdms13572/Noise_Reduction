{
 "cells": [
  {
   "cell_type": "markdown",
   "id": "beab1c5f-a50e-432b-aad2-03d6f3b59125",
   "metadata": {},
   "source": [
    "# 파일 가져오기"
   ]
  },
  {
   "cell_type": "code",
   "execution_count": null,
   "id": "8f753a25-5822-4b31-9465-815ead2a9c5b",
   "metadata": {},
   "outputs": [],
   "source": [
    "import os\n",
    "\n",
    "# wav_file 폴더 경로 설정\n",
    "wav_folder = './wav_file'\n",
    "\n",
    "# all_files변수에 wav_folder경로에 있는 파일 리스트로 저장\n",
    "all_files = os.listdir(wav_folder)\n",
    "\n",
    "wav_files = []\n",
    "# 가져온 파일 목록에서 각 파일 하나씩 확인\n",
    "for f in all_files:\n",
    "    if f.endswith('.WAV'):\n",
    "        # 조건에 맞는 파일들을 리스트에 추가\n",
    "        wav_files.append(f)\n",
    "print(wav_files)"
   ]
  },
  {
   "cell_type": "markdown",
   "id": "bb127a5f-17dd-4578-9584-7c7c4ba8a85f",
   "metadata": {},
   "source": [
    "# 파일 시각화 및 소리 재생"
   ]
  },
  {
   "cell_type": "code",
   "execution_count": null,
   "id": "fe272ea2-4e8b-4404-bdc7-06a5e0d806d6",
   "metadata": {},
   "outputs": [],
   "source": [
    "from IPython.display import Audio\n",
    "\n",
    "\n",
    "# 각 파일에 대해 시각화 및 음성 재생\n",
    "for wav_file in wav_files:\n",
    "    file_path = os.path.join(wav_folder, wav_file)\n",
    "    \n",
    "    # 음성 파일 로드\n",
    "    y, sr = librosa.load(file_path, sr=None)  # 원래 샘플링 레이트 유지\n",
    "    \n",
    "    # 파형 시각화\n",
    "    plt.figure(figsize=(10, 4))\n",
    "    librosa.display.waveshow(y, sr=sr)\n",
    "    plt.title(f\"Waveform of {wav_file}\")\n",
    "    plt.xlabel(\"Time (s)\")\n",
    "    plt.ylabel(\"Amplitude\")\n",
    "    plt.show()\n",
    "    \n",
    "    # 음성 재생\n",
    "    print(f\"Playing {wav_file}:\")\n",
    "    display(Audio(data=y, rate=sr))"
   ]
  },
  {
   "cell_type": "markdown",
   "id": "289b3dbf-e8fd-4fe9-98b6-e217416210cb",
   "metadata": {},
   "source": [
    "원본 파일 형태를 시각화해서 보면 클릭음과 기계음이 들어간 걸 확인"
   ]
  },
  {
   "cell_type": "markdown",
   "id": "9481ceab-deb5-4b3e-b8b7-ff72e1b17153",
   "metadata": {},
   "source": [
    "# 데이터 전처리"
   ]
  },
  {
   "cell_type": "markdown",
   "id": "7cb015b0-ab0a-4f57-8d32-091e93e347db",
   "metadata": {},
   "source": [
    "### 노이즈 제거 1 : 클릭음 제거"
   ]
  },
  {
   "cell_type": "code",
   "execution_count": null,
   "id": "2ff49650-ed0b-468f-a7d6-cc61f1bf287a",
   "metadata": {},
   "outputs": [],
   "source": [
    "import librosa\n",
    "import librosa.display\n",
    "import numpy as np\n",
    "import matplotlib.pyplot as plt\n",
    "from scipy.io.wavfile import write\n",
    "from IPython.display import display\n",
    "\n",
    "# 출력 폴더 설정\n",
    "output_folder = './noise1'\n",
    "os.makedirs(output_folder, exist_ok=True)\n",
    "\n",
    "# STFT 계산 및 처리 (코드가 정상적으로 들여쓰기됨)\n",
    "def process_audio(y, sr, wav_file):\n",
    "    # STFT 계산\n",
    "    D = librosa.stft(y)\n",
    "\n",
    "    # 주파수 범위 설정 (1300 Hz ~ 5000 Hz)\n",
    "    freqs = librosa.fft_frequencies(sr=sr)\n",
    "    min_freq = 2100\n",
    "    max_freq = 2300\n",
    "    freq_mask = np.logical_and(freqs >= min_freq, freqs <= max_freq)\n",
    "\n",
    "    # freq_mask를 2D 배열로 확장 (시간 프레임마다 동일하게 적용)\n",
    "    freq_mask_2d = np.repeat(freq_mask[:, np.newaxis], D.shape[1], axis=1)\n",
    "\n",
    "    # 하모닉과 퍼커시브 분리\n",
    "    harmonic, percussive = librosa.decompose.hpss(D)\n",
    "\n",
    "    # 퍼커시브 부분에서 지정된 주파수 범위만 남기고 나머지는 제거\n",
    "    percussive_filtered = percussive * freq_mask_2d\n",
    "\n",
    "    # 퍼커시브 제거 후 결과\n",
    "    y_harmonic = librosa.istft(harmonic + percussive_filtered)\n",
    "\n",
    "    # 결과 저장 경로 설정\n",
    "    output_path = os.path.join(output_folder, f\"cleaned_{wav_file}\")\n",
    "    write(output_path, sr, (y_harmonic * 32767).astype(np.int16))  # 16비트 PCM 형식으로 저장\n",
    "\n",
    "    # 신호 시각화\n",
    "    time = np.linspace(0, len(y) / sr, len(y))\n",
    "    plt.figure(figsize=(10, 4))\n",
    "    plt.plot(time, y, label=\"Original Signal\", alpha=0.6)\n",
    "    plt.plot(time[:len(y_harmonic)], y_harmonic, label=\"Signal without Noise\", color='orange', alpha=0.8)\n",
    "    plt.title(f\"Signal Before and After Noise Removal ({wav_file})\")\n",
    "    plt.xlabel(\"Time (s)\")\n",
    "    plt.ylabel(\"Amplitude\")\n",
    "    plt.legend()\n",
    "    plt.grid()\n",
    "    plt.show()\n",
    "\n",
    "    # 원본 및 제거된 신호 재생\n",
    "    print(f\"Playing original audio for {wav_file}:\")\n",
    "    display(Audio(data=y, rate=sr))\n",
    "\n",
    "    print(f\"Playing cleaned audio for {wav_file}:\")\n",
    "    display(Audio(filename=output_path))\n",
    "\n",
    "# 파일 경로 및 처리\n",
    "wav_folder = './wav_file'\n",
    "wav_files = [f for f in os.listdir(wav_folder) if f.endswith('.WAV')]\n",
    "\n",
    "# 각 파일에 대해 함수 호출\n",
    "for wav_file in wav_files:\n",
    "    file_path = os.path.join(wav_folder, wav_file)\n",
    "    \n",
    "    # 오디오 파일 로드\n",
    "    y, sr = librosa.load(file_path, sr=None)\n",
    "    \n",
    "    # 함수 호출\n",
    "    process_audio(y, sr, wav_file)\n"
   ]
  },
  {
   "cell_type": "markdown",
   "id": "71624801-9bc0-434e-aab7-b11d1bbcfe76",
   "metadata": {},
   "source": [
    "- > 문제 발생 : 노이즈가 제거가 되었으나 소리가 너무 작아짐"
   ]
  },
  {
   "cell_type": "markdown",
   "id": "a0db4fbd-73eb-43d2-8088-c14b0c4780a2",
   "metadata": {},
   "source": [
    "### 노이즈 제거된 파일 증폭"
   ]
  },
  {
   "cell_type": "code",
   "execution_count": null,
   "id": "2324d88b-8aff-4c18-8c04-46b9c47b222c",
   "metadata": {},
   "outputs": [],
   "source": [
    "# 입력 및 출력 폴더 설정\n",
    "input_folder = './noise1'  # 노이즈 제거된 파일이 저장된 폴더\n",
    "output_amplified_folder = './amplified_noise1'\n",
    "\n",
    "# 출력 폴더 생성\n",
    "os.makedirs(output_amplified_folder, exist_ok=True)\n",
    "\n",
    "# 증폭 계수 (소리를 키우는 정도)\n",
    "amplification_factor = 2.0  # 2배로 증폭\n",
    "\n",
    "# 디버깅: 입력 폴더와 파일 확인\n",
    "print(f\"Input folder: {input_folder}\")\n",
    "print(f\"Output folder: {output_amplified_folder}\")\n",
    "\n",
    "# input_folder의 파일 가져오기\n",
    "amplified_files = [f for f in os.listdir(input_folder) if f.endswith('.WAV')]\n",
    "print(f\"Files found: {amplified_files}\")\n"
   ]
  },
  {
   "cell_type": "markdown",
   "id": "005f5ec2-2683-46a3-ac00-deeec9c113ed",
   "metadata": {},
   "source": [
    "### 증폭된 파일 시각화"
   ]
  },
  {
   "cell_type": "code",
   "execution_count": null,
   "id": "2ad27c6f-75c2-4ef2-9420-fb1359f61f56",
   "metadata": {},
   "outputs": [],
   "source": [
    "# 증폭된 파일이 저장된 폴더 설정\n",
    "output_amplified_folder = './amplified_noise1'\n",
    "\n",
    "# 증폭된 파일 가져오기\n",
    "amplified_files = [f for f in os.listdir(output_amplified_folder) if f.endswith('.WAV')]\n",
    "print(f\"Amplified files found: {amplified_files}\")\n",
    "\n",
    "# 파일이 없는 경우 처리\n",
    "if not amplified_files:\n",
    "    print(\"No amplified .wav files found in the output folder!\")\n",
    "else:\n",
    "    for file_name in amplified_files:\n",
    "        file_path = os.path.join(output_amplified_folder, file_name)\n",
    "        \n",
    "        # 음성 파일 로드\n",
    "        y, sr = librosa.load(file_path, sr=None)  # 원래 샘플링 레이트 유지\n",
    "        \n",
    "        # 파형 시각화\n",
    "        plt.figure(figsize=(10, 4))\n",
    "        librosa.display.waveshow(y, sr=sr)\n",
    "        plt.title(f\"Waveform of {file_name}\")\n",
    "        plt.xlabel(\"Time (s)\")\n",
    "        plt.ylabel(\"Amplitude\")\n",
    "        plt.show()\n",
    "        \n",
    "        # 음성 재생\n",
    "        print(f\"Playing amplified audio: {file_name}\")\n",
    "        display(Audio(data=y, rate=sr))\n"
   ]
  },
  {
   "cell_type": "markdown",
   "id": "12590b96-62bb-4cbd-8569-00959fcfa5a4",
   "metadata": {},
   "source": [
    "좋았던 점 : 2배 소리를 증폭 시켰더니 클릭음이 제거가 안된 부분의 소리를 들을 수 있어 주파수 대역을 타이트하게 잡을 수 있었음"
   ]
  },
  {
   "cell_type": "markdown",
   "id": "2fcb0d78-67b2-4690-a595-1ac7b9fde0b8",
   "metadata": {},
   "source": [
    "### 노이즈 제거 2: 기계음 제거 "
   ]
  },
  {
   "cell_type": "markdown",
   "id": "f3d2ceda-9047-4e26-9873-401a1e976e21",
   "metadata": {},
   "source": [
    "- 이 코드는 noisereduce 라이브러리를 사용하여 오디오 신호에서 시간 및 주파수 마스크를 기반으로 기계음을 감지하고, 감지된 잡음 성분을 감소시키는 방식으로 기계음을 제거"
   ]
  },
  {
   "cell_type": "code",
   "execution_count": null,
   "id": "27fe80a0-bcc6-4a0b-9d9f-a2c08a41679c",
   "metadata": {},
   "outputs": [],
   "source": [
    "# 입력 및 출력 폴더 설정\n",
    "input_folder = './amplified_noise1'  # 증폭된 파일이 저장된 폴더\n",
    "output_filtered_folder = './filtered_noise2'  # 필터링된 파일 저장 폴더\n",
    "\n",
    "# 출력 폴더 생성\n",
    "os.makedirs(output_filtered_folder, exist_ok=True)\n",
    "\n",
    "# input_folder의 파일 가져오기\n",
    "amplified_files = [f for f in os.listdir(input_folder) if f.endswith('.WAV')]\n",
    "print(f\"Files found: {amplified_files}\")\n",
    "\n",
    "# 파일이 없는 경우 처리\n",
    "if not amplified_files:\n",
    "    print(\"No .wav files found in the input folder!\")\n",
    "else:\n",
    "    for file_name in amplified_files:\n",
    "        input_path = os.path.join(input_folder, file_name)\n",
    "        output_path = os.path.join(output_filtered_folder, f\"filtered_{file_name}\")\n",
    "        \n",
    "        # WAV 파일 불러오기\n",
    "        audio = AudioSegment.from_wav(input_path)\n",
    "\n",
    "        # 오디오 데이터를 numpy 배열로 변환\n",
    "        audio_data = np.array(audio.get_array_of_samples())\n",
    "\n",
    "        # 잡음 제거\n",
    "        reduced_audio_data = reduce_noise(\n",
    "            y=audio_data,\n",
    "            sr=audio.frame_rate,\n",
    "            prop_decrease=1,  # 잡음 감소 비율\n",
    "            time_mask_smooth_ms=4000,  # 시간 마스크 크기 (ms)\n",
    "            freq_mask_smooth_hz=400,  # 주파수 마스크 크기 (Hz)\n",
    "        )\n",
    "\n",
    "        # 처리된 오디오 데이터를 AudioSegment로 변환\n",
    "        reduced_audio = AudioSegment(\n",
    "            reduced_audio_data.tobytes(),\n",
    "            frame_rate=audio.frame_rate,\n",
    "            sample_width=audio.sample_width,\n",
    "            channels=audio.channels\n",
    "        )\n",
    "\n",
    "        # 필터링된 오디오 저장\n",
    "        reduced_audio.export(output_path, format=\"wav\")\n",
    "        print(f\"Filtered and saved: {output_path}\")\n",
    "\n",
    "        # 오디오 재생 (잡음이 줄어든 파일)\n",
    "        print(f\"Playing filtered audio for {file_name}:\")\n",
    "        display(Audio(output_path))\n",
    "\n",
    "        # 파형 시각화\n",
    "        plt.figure(figsize=(12, 6))\n",
    "\n",
    "        # 원본 오디오 파형\n",
    "        plt.subplot(2, 1, 1)\n",
    "        plt.plot(np.arange(len(audio_data)) / audio.frame_rate, audio_data)\n",
    "        plt.title(f'Original Audio Waveform: {file_name}')\n",
    "        plt.xlabel('Time [s]')\n",
    "        plt.ylabel('Amplitude')\n",
    "\n",
    "        # 필터링된 오디오 파형\n",
    "        plt.subplot(2, 1, 2)\n",
    "        plt.plot(np.arange(len(reduced_audio_data)) / audio.frame_rate, reduced_audio_data)\n",
    "        plt.title(f'Filtered Audio Waveform: {file_name}')\n",
    "        plt.xlabel('Time [s]')\n",
    "        plt.ylabel('Amplitude')\n",
    "\n",
    "        plt.tight_layout()\n",
    "        plt.show()\n"
   ]
  },
  {
   "cell_type": "markdown",
   "id": "e42e9056-312e-4d47-a9b7-b4a9cd69baa0",
   "metadata": {},
   "source": [
    "문제 발생\n",
    "- 1. 기계음을 제거하면 음성 파일의 소리가 줄어들며, 소리가 없는 부분의 파형이 0으로 수렴하는 현상이 확인\n",
    "  2. 소리가 있는 부분의 기걔음 제거가 안되는 걸 확인"
   ]
  },
  {
   "cell_type": "markdown",
   "id": "68676196-510b-43f3-a103-0bc3e2b67a30",
   "metadata": {},
   "source": [
    "### 노이즈 제거된 파일 증폭 및 시각화"
   ]
  },
  {
   "cell_type": "code",
   "execution_count": null,
   "id": "649a62c8-9e68-48e3-9720-15a826f9ee46",
   "metadata": {},
   "outputs": [],
   "source": [
    "# 입력 및 출력 폴더 설정\n",
    "input_folder = './filtered_noise2'  # 노이즈 제거된 파일이 저장된 폴더\n",
    "output_amplified_folder = './amplified_noise2'\n",
    "\n",
    "# 출력 폴더 생성\n",
    "os.makedirs(output_amplified_folder, exist_ok=True)\n",
    "\n",
    "# 증폭 계수 (소리를 키우는 정도)\n",
    "amplification_factor = 2.0  # 2배로 증폭\n",
    "\n",
    "# 디버깅: 입력 폴더와 파일 확인\n",
    "print(f\"Input folder: {input_folder}\")\n",
    "print(f\"Output folder: {output_amplified_folder}\")\n",
    "\n",
    "# input_folder의 파일 가져오기\n",
    "input_files = [f for f in os.listdir(input_folder) if f.lower().endswith('.wav')]\n",
    "print(f\"Files found: {input_files}\")\n",
    "\n",
    "# 파일이 없는 경우 처리\n",
    "if not input_files:\n",
    "    print(\"No .wav files found in the input folder!\")\n",
    "else:\n",
    "    for file_name in input_files:\n",
    "        input_path = os.path.join(input_folder, file_name)\n",
    "        \n",
    "        # 오디오 파일 로드\n",
    "        print(f\"Processing file: {input_path}\")\n",
    "        y, sr = librosa.load(input_path, sr=None)\n",
    "        \n",
    "        # 볼륨 증폭\n",
    "        y_amplified = y * amplification_factor\n",
    "        \n",
    "        # 클리핑 방지 (샘플 값이 -1.0 ~ 1.0 범위를 초과하지 않도록 조정)\n",
    "        y_amplified = np.clip(y_amplified, -1.0, 1.0)\n",
    "        \n",
    "        # 증폭된 파일 저장 경로\n",
    "        output_path = os.path.join(output_amplified_folder, f\"amplified_{file_name}\")\n",
    "        write(output_path, sr, (y_amplified * 32767).astype(np.int16))  # 16비트 PCM 형식으로 저장\n",
    "        \n",
    "        # 결과 출력\n",
    "        print(f\"Amplified and saved: {output_path}\")\n",
    "        \n",
    "        # 증폭된 오디오 재생\n",
    "        print(f\"Playing amplified audio for {file_name}:\")\n",
    "        display(Audio(data=y_amplified, rate=sr))\n",
    "\n",
    "        # 파형 시각화\n",
    "        plt.figure(figsize=(10, 4))\n",
    "        librosa.display.waveshow(y, sr=sr)\n",
    "        plt.title(f\"Waveform of {file_name}\")\n",
    "        plt.xlabel(\"Time (s)\")\n",
    "        plt.ylabel(\"Amplitude\")\n",
    "        plt.show()\n"
   ]
  },
  {
   "cell_type": "markdown",
   "id": "40780b7a-6b36-41ed-b721-3c4b50baff42",
   "metadata": {},
   "source": [
    "문제 발생 : 소리는 커졌지만 여전히 음성 파형이 있는 곳의 기계음은 제거 되지 않았다"
   ]
  },
  {
   "cell_type": "code",
   "execution_count": null,
   "id": "109abd59-8070-422c-ad60-259d09c4ab0a",
   "metadata": {},
   "outputs": [],
   "source": []
  }
 ],
 "metadata": {
  "kernelspec": {
   "display_name": "Python 3 (ipykernel)",
   "language": "python",
   "name": "python3"
  },
  "language_info": {
   "codemirror_mode": {
    "name": "ipython",
    "version": 3
   },
   "file_extension": ".py",
   "mimetype": "text/x-python",
   "name": "python",
   "nbconvert_exporter": "python",
   "pygments_lexer": "ipython3",
   "version": "3.12.7"
  }
 },
 "nbformat": 4,
 "nbformat_minor": 5
}
