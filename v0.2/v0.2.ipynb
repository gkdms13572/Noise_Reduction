{
 "cells": [
  {
   "cell_type": "markdown",
   "metadata": {},
   "source": [
    "# 1. 데이터 가져오기"
   ]
  },
  {
   "cell_type": "code",
   "execution_count": null,
   "metadata": {},
   "outputs": [],
   "source": [
    "import os\n",
    "\n",
    "data_folder = './data'\n",
    "\n",
    "# all_files 변수에 data_folder경로에 있는 파일 리스트로 저장\n",
    "all_files = os.listdir(data_folder)\n",
    "\n",
    "# 파일 이름 저장할 리스트\n",
    "wav_files = []\n",
    "\n",
    "# all_files에 저장된 리스트 하나씩 가져오기\n",
    "for f in all_files:\n",
    "    # 조건문으로 뒤에 .WAV로 끝나는 것만 \n",
    "    if f.endswith('.WAV'):\n",
    "        # wav_files 리스트에 추가하기\n",
    "        wav_files.append(f)\n",
    "print(wav_files)"
   ]
  },
  {
   "cell_type": "markdown",
   "metadata": {},
   "source": [
    "### 1-1 데이터 확인"
   ]
  },
  {
   "cell_type": "code",
   "execution_count": null,
   "metadata": {},
   "outputs": [],
   "source": [
    "from IPython.display import Audio\n",
    "import librosa\n",
    "import matplotlib.pyplot as plt\n",
    "from matplotlib import rc\n",
    "\n",
    "# 한글 폰트 설정\n",
    "rc('font', family='Malgun Gothic')\n",
    "plt.rcParams['axes.unicode_minus'] = False  # 음수 기호 깨짐 방지\n",
    "\n",
    "# wav_files에 있는 파일 목록 하나씩 가져오기\n",
    "for wav_file in wav_files:\n",
    "    # os.path.join사용해서 data_folder와 wav_file을 조합하여 하나의 파일 경로를 생성\n",
    "    file_path = os.path.join(data_folder, wav_file)\n",
    "\n",
    "    # 음성 파일 로드\n",
    "    y, sr = librosa.load(file_path, sr=None) # 원래 샘플링 레이트 유지\n",
    "    # - y: 오디오 신호(시간 축에 따른 샘플 값)로, numpy배열 형식으로 반환\n",
    "    # - sr: 샘플링 레이트(초당 샘플 수)\n",
    "    \n",
    "    # 파형 시각화\n",
    "    plt.figure(figsize=(10,4))\n",
    "    librosa.display.waveshow(y, sr=sr)\n",
    "    plt.title(\"원본 데이터\")\n",
    "    plt.xlabel(\"시간\")\n",
    "    plt.ylabel(\"진폭\") # 호의 \"파형 높이\"\n",
    "    plt.show()\n",
    "\n",
    "    # 음성 재생\n",
    "    print(\"원본 파일 음성 재생\")\n",
    "    display(Audio(data=y, rate=sr))"
   ]
  },
  {
   "cell_type": "markdown",
   "metadata": {},
   "source": [
    "# 2. 데이터 전처리"
   ]
  },
  {
   "cell_type": "markdown",
   "metadata": {},
   "source": [
    "### 2-1 패커시브/하모닉 분리"
   ]
  },
  {
   "cell_type": "code",
   "execution_count": null,
   "metadata": {},
   "outputs": [],
   "source": [
    "from IPython.display import Audio, display\n",
    "import librosa\n",
    "import librosa.display\n",
    "import matplotlib.pyplot as plt\n",
    "from matplotlib import rc\n",
    "import os\n",
    "import soundfile as sf\n",
    "\n",
    "# 한글 폰트 설정\n",
    "rc('font', family='Malgun Gothic')\n",
    "plt.rcParams['axes.unicode_minus'] = False  # 음수 기호 깨짐 방지\n",
    "\n",
    "data_folder = './data'\n",
    "output_folder = './cleaned_wav'\n",
    "\n",
    "# 저장 폴더가 없으면 생성\n",
    "if not os.path.exists(output_folder):\n",
    "    os.makedirs(output_folder)\n",
    "\n",
    "# 데이터 폴더에서 .wav 파일 목록 가져오기\n",
    "wav_files = [f for f in os.listdir(data_folder) if f.endswith('.WAV')]\n",
    "\n",
    "# 파일 하나씩 처리\n",
    "for wav_file in wav_files:\n",
    "    # 파일 경로 생성\n",
    "    file_path = os.path.join(data_folder, wav_file)\n",
    "\n",
    "    # 음성 파일 로드\n",
    "    y, sr = librosa.load(file_path, sr=None)  # 원래 샘플링 레이트 유지\n",
    "\n",
    "    # 하모닉과 패커시브 분리\n",
    "    D = librosa.stft(y)  # STFT 변환\n",
    "    harmonic, percussive = librosa.decompose.hpss(D)  # H/P 분리\n",
    "    y_harmonic = librosa.istft(harmonic, length=len(y))  # 원래 길이 유지\n",
    "    y_percussive = librosa.istft(percussive, length=len(y))  # 원래 길이 유지\n",
    "\n",
    "    # 하모닉 성분만 저장\n",
    "    output_file_path = os.path.join(output_folder, f'cleaned_{wav_file}')\n",
    "    sf.write(output_file_path, y_harmonic, sr)\n",
    "    print(f\"하모닉 성분 저장 완료: {output_file_path}\")\n",
    "\n",
    "    # 파형 시각화 (원본, 하모닉, 패커시브)\n",
    "    plt.figure(figsize=(12, 8))\n",
    "\n",
    "    # 원본 신호\n",
    "    plt.subplot(3, 1, 1)\n",
    "    librosa.display.waveshow(y, sr=sr, alpha=0.7)\n",
    "    plt.title(f\"원본 데이터 ({wav_file})\")\n",
    "    plt.xlabel(\"시간\")\n",
    "    plt.ylabel(\"진폭\")\n",
    "\n",
    "    # 하모닉 신호\n",
    "    plt.subplot(3, 1, 2)\n",
    "    librosa.display.waveshow(y_harmonic, sr=sr, alpha=0.7, color='orange')\n",
    "    plt.title(\"하모닉 성분 (순수한 음)\")\n",
    "    plt.xlabel(\"시간\")\n",
    "    plt.ylabel(\"진폭\")\n",
    "\n",
    "    # 패커시브 신호\n",
    "    plt.subplot(3, 1, 3)\n",
    "    librosa.display.waveshow(y_percussive, sr=sr, alpha=0.7, color='green')\n",
    "    plt.title(\"패커시브 성분 (잡음)\")\n",
    "    plt.xlabel(\"시간\")\n",
    "    plt.ylabel(\"진폭\")\n",
    "\n",
    "    plt.tight_layout()\n",
    "    plt.show()\n",
    "\n",
    "    # 음성 재생\n",
    "    print(f\"원본 파일 음성 재생 ({wav_file}):\")\n",
    "    display(Audio(data=y, rate=sr))\n",
    "\n",
    "    print(\"하모닉 성분 음성 재생 (순수한 음):\")\n",
    "    display(Audio(data=y_harmonic, rate=sr))\n",
    "\n",
    "    print(\"패커시브 성분 음성 재생 (잡음):\")\n",
    "    display(Audio(data=y_percussive, rate=sr))\n"
   ]
  },
  {
   "cell_type": "markdown",
   "metadata": {},
   "source": [
    "- v0.1보다는 더 좋은 상태로 음성 분리 됨 \n",
    "- 문제 : 패커시브로 분리된 음성 파일 깨끗하게 클릭음만 가져오지 못함(소 음성 소리 포함)"
   ]
  },
  {
   "cell_type": "markdown",
   "metadata": {},
   "source": [
    "### 2-2 음성 패턴 분석"
   ]
  },
  {
   "cell_type": "markdown",
   "metadata": {},
   "source": [
    "- 1. 음성 신호를 -> text로 변환\n",
    "- 2. 1초에 클릭음이 몇번 발생하는지 출력해보기\n",
    "- 3. 확인 됐다면 패턴을 분석해보기 (예. 7.24초만에 22번)\n",
    "- 4. 평균 클릭음 패턴 분석을 했다면 그 초대로 끊고 범위를 -0.02, +0.02이런식으로 늘려서 클릭음 잡기\n",
    "- 5. 음성 파일에 클릭음만 빼기 "
   ]
  },
  {
   "cell_type": "markdown",
   "metadata": {},
   "source": [
    "2-3-1. 음성 신호를 -> text로 변환"
   ]
  },
  {
   "cell_type": "code",
   "execution_count": null,
   "metadata": {},
   "outputs": [],
   "source": [
    "# 필요 라이브러리\n",
    "import os\n",
    "import librosa\n",
    "import librosa.display\n",
    "import matplotlib.pyplot as plt\n",
    "import numpy as np\n",
    "import soundfile as sf"
   ]
  },
  {
   "cell_type": "code",
   "execution_count": null,
   "metadata": {},
   "outputs": [],
   "source": [
    "# 데이터 폴더 경로\n",
    "data_folder = './data'\n",
    "\n",
    "# 폴더 내의 모든 파일 가져오기\n",
    "audio_files = [f for f in os.listdir(data_folder) if f.endswith('.WAV')]\n",
    "\n",
    "for file in audio_files:\n",
    "    file_path = os.path.join(data_folder, file)\n",
    "\n",
    "    # 오디오 파일 로드 (샘플링 주파수는 기본 22050Hz)\n",
    "    y, sr = librosa.load(file_path, sr=None)\n",
    "    \n",
    "    # 주파수 분석 (Short-Time Fourier Transform)\n",
    "    D = librosa.stft(y)\n",
    "    D_db = librosa.amplitude_to_db(abs(D), ref=np.max)\n",
    "\n",
    "    # 스펙트로그램 시각화\n",
    "    plt.figure(figsize=(10, 4))\n",
    "    librosa.display.specshow(D_db, sr=sr, x_axis='time', y_axis='log')\n",
    "    plt.colorbar(format='%+2.0f dB')\n",
    "    plt.title(f'Spectrogram of {file}')\n",
    "    plt.xlabel('Time (s)')\n",
    "    plt.ylabel('Frequency (Hz)')\n",
    "    plt.show()\n"
   ]
  },
  {
   "cell_type": "markdown",
   "metadata": {},
   "source": [
    "스펙토그램 : 시간에 따른 주파수 성분의 강도 변화를 시각적으로 나타낸 그래프로, 오디오 신호의 주파수 패턴을 분석하는 데 사용됨.\n",
    "\n",
    "색상: 신호 강도를 나타내며, 밝은 색(노랑)은 강한 신호, 어두운 색(보라/검정)은 약한 신호를 의미"
   ]
  },
  {
   "cell_type": "markdown",
   "metadata": {},
   "source": [
    "스펙토그램 분석 \n",
    "1. 노랑색 부분이 소 울음 소리 일 가능성 높음\n",
    "2. 현재 0~150Hz에서 반복적인 패턴이 보임\n",
    "3. 평균적으로 Hz는 최대가 16.384Hz정도임"
   ]
  },
  {
   "cell_type": "code",
   "execution_count": null,
   "metadata": {},
   "outputs": [],
   "source": [
    "# 30초 기준 설정\n",
    "target_duration = 30  # 초 단위\n",
    "sampling_rate = 22050  # 샘플링 주파수 설정\n",
    "hop_length = 512  # 프레임 간격 설정\n",
    "\n",
    "# MFCC 추출 함수\n",
    "def extract_mfcc(file_path):\n",
    "    y, sr = librosa.load(file_path, sr=sampling_rate)\n",
    "\n",
    "    # 원하는 30초 길이까지만 자르기\n",
    "    max_samples = target_duration * sr  # 30초 샘플 크기 계산\n",
    "    if len(y) > max_samples:\n",
    "        y = y[:max_samples]  # 30초까지만 사용\n",
    "\n",
    "    # MFCC 추출\n",
    "    mfccs = librosa.feature.mfcc(y=y, sr=sr, n_mfcc=13, hop_length=hop_length)\n",
    "    return mfccs, sr\n",
    "\n",
    "# 오디오 파일 처리 및 시각화\n",
    "data_folder = './data'  # 오디오 파일 폴더 경로\n",
    "audio_files = [f for f in os.listdir(data_folder) if f.endswith('.WAV')]\n",
    "\n",
    "for file in audio_files:\n",
    "    file_path = os.path.join(data_folder, file)\n",
    "    mfcc_features, sr = extract_mfcc(file_path)\n",
    "\n",
    "    # 시각화\n",
    "    plt.figure(figsize=(12, 6))\n",
    "    librosa.display.specshow(mfcc_features, sr=sr, hop_length=hop_length, x_axis='time', y_axis='mel')\n",
    "    plt.colorbar(label='MFCC Coefficients')\n",
    "    plt.title(f'MFCC of {file}')\n",
    "    plt.xlabel('Time (s)')\n",
    "    plt.ylabel(\"Frequency (Mel)\")\n",
    "    plt.grid()\n",
    "    plt.show()"
   ]
  },
  {
   "cell_type": "markdown",
   "metadata": {},
   "source": [
    "- MFCC : 인간의 청각 특성을 모방하여 오디오 신호의 주파수 정보를 멜 스케일로 변환한 후 특징을 추출하는 방법으로, 음성 및 오디오 인식에 널리 사용됨.\n",
    "- 멜 스케일 : 멜 스케일은 주파수를 인간의 인식에 맞게 비선형적으로 변환한 척도\n",
    "- 붉은색(Red): 높은 MFCC 값을 나타내며, 특정 주파수 대역에서 강한 에너지를 의미.\n",
    "- 푸른색(Blue): 낮은 MFCC 값을 나타내며, 에너지가 약한 영역."
   ]
  },
  {
   "cell_type": "markdown",
   "metadata": {},
   "source": [
    "MFCC 분석\n",
    "- 0~512 Mel (저주파)\n",
    "- > 반복적인 패턴이 관찰되며, 주기적인 저주파 소음(기계 소음, 배경 잡음) 존재 가능성.\n",
    "- 512~1024 Mel (저주파중주파)\n",
    "- > 낮은 목소리의 지속적인 성분이 포함될 수 있으며, 배경 소음과 혼합 가능성.\n",
    "- 1024~2048 Mel (중주파)\n",
    "- > 음성의 주요 포먼트가 나타나는 구간이며, 특정 패턴이 유지됨.\n",
    "- 2048~4096 Mel (중고주파)\n",
    "- > 음성의 자음 특성 혹은 환경 잡음의 성분이 있을 가능성.\n",
    "- 4096~8192 Mel (고주파)\n",
    "- > 고주파 노이즈 성분이 일정하게 포함되며, 음향 신호보다는 잡음일 가능성이 있음."
   ]
  },
  {
   "cell_type": "code",
   "execution_count": null,
   "metadata": {},
   "outputs": [],
   "source": [
    "output_folder = './mfcc_features'  # 특징 저장 폴더\n",
    "os.makedirs(output_folder, exist_ok=True)\n",
    "\n",
    "for file in audio_files:\n",
    "    file_path = os.path.join(data_folder, file)\n",
    "    mfcc_features, sr = extract_mfcc(file_path)\n",
    "\n",
    "    # MFCC 데이터를 CSV로 저장\n",
    "    mfcc_df = pd.DataFrame(mfcc_features.T)  # 전치하여 시간축 기준으로 정렬\n",
    "    output_csv = os.path.join(output_folder, f\"{file}.csv\")\n",
    "    mfcc_df.to_csv(output_csv, index=False)\n",
    "    print(f\"MFCC 저장 완료: {output_csv}\")"
   ]
  },
  {
   "cell_type": "markdown",
   "metadata": {},
   "source": [
    "- 이 방법으론 할 수 없다고 피드백 받음 (중단)\n",
    "> 안되는 이유 : 클릭음뿐만 아니라 해당 구간의 원본 음성까지 함께 제거될 수 있음"
   ]
  },
  {
   "cell_type": "markdown",
   "metadata": {},
   "source": []
  }
 ],
 "metadata": {
  "kernelspec": {
   "display_name": "Python 3",
   "language": "python",
   "name": "python3"
  },
  "language_info": {
   "codemirror_mode": {
    "name": "ipython",
    "version": 3
   },
   "file_extension": ".py",
   "mimetype": "text/x-python",
   "name": "python",
   "nbconvert_exporter": "python",
   "pygments_lexer": "ipython3",
   "version": "3.12.2"
  }
 },
 "nbformat": 4,
 "nbformat_minor": 2
}
